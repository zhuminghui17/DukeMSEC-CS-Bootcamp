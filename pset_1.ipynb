{
  "nbformat": 4,
  "nbformat_minor": 0,
  "metadata": {
    "colab": {
      "name": "pset 1.ipynb",
      "provenance": [],
      "collapsed_sections": [],
      "authorship_tag": "ABX9TyNIoq4VyyJYH2rUr0JpluwX",
      "include_colab_link": true
    },
    "kernelspec": {
      "name": "python3",
      "display_name": "Python 3"
    },
    "language_info": {
      "name": "python"
    }
  },
  "cells": [
    {
      "cell_type": "markdown",
      "metadata": {
        "id": "view-in-github",
        "colab_type": "text"
      },
      "source": [
        "<a href=\"https://colab.research.google.com/github/zhuminghui17/DukeMSEC-CS-Bootcamp/blob/main/pset_1.ipynb\" target=\"_parent\"><img src=\"https://colab.research.google.com/assets/colab-badge.svg\" alt=\"Open In Colab\"/></a>"
      ]
    },
    {
      "cell_type": "markdown",
      "source": [
        "# Introductory Python Problem Set\n",
        "## [Basic Python Exercises](https://pynative.com/python-basic-exercise-for-beginners/) - 1, 2, 10, 11, 14, 15\n"
      ],
      "metadata": {
        "id": "hy5seMqpe2Q8"
      }
    },
    {
      "cell_type": "code",
      "execution_count": 6,
      "metadata": {
        "colab": {
          "base_uri": "https://localhost:8080/"
        },
        "id": "XNhSrLMjdzdW",
        "outputId": "901fd338-3084-48a3-b6ca-1aba693e6da5"
      },
      "outputs": [
        {
          "output_type": "stream",
          "name": "stdout",
          "text": [
            "the result is  600\n",
            "the result is  70\n"
          ]
        }
      ],
      "source": [
        "#Exercise 1: Calculate the multiplication and sum of two numbers\n",
        "def multi_sum (num1, num2):\n",
        "  if num1 * num2 <= 1000:\n",
        "    return num1 * num2\n",
        "  else:\n",
        "    return num1 + num2\n",
        "\n",
        "result1 = multi_sum (20, 30)\n",
        "print(\"the result is \", result1)\n",
        "\n",
        "result2 = multi_sum (30, 40)\n",
        "print(\"the result is \", result2)"
      ]
    },
    {
      "cell_type": "code",
      "source": [
        "#Exercise 2: Print the sum of the current number and the previous number\n",
        "\n",
        "  \n",
        "\n"
      ],
      "metadata": {
        "id": "95Ajk7hfhv-K"
      },
      "execution_count": 13,
      "outputs": []
    },
    {
      "cell_type": "code",
      "source": [
        "#Exercise 4: Remove first n characters from a string\n"
      ],
      "metadata": {
        "colab": {
          "base_uri": "https://localhost:8080/"
        },
        "id": "ijksfB3Zjog-",
        "outputId": "1688af05-be90-46d6-9d20-e61899a691e6"
      },
      "execution_count": 12,
      "outputs": [
        {
          "output_type": "execute_result",
          "data": {
            "text/plain": [
              "0"
            ]
          },
          "metadata": {},
          "execution_count": 12
        }
      ]
    }
  ]
}